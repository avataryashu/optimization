{
 "cells": [
  {
   "cell_type": "markdown",
   "id": "649cc71b-f0ea-4fa9-b096-b3005a7a31f8",
   "metadata": {},
   "source": [
    "Assignment 2: Portfolio Optimization"
   ]
  },
  {
   "cell_type": "code",
   "execution_count": null,
   "id": "66b925d4-462d-46fb-a1bf-3707253bd14a",
   "metadata": {},
   "outputs": [],
   "source": [
    "# Import gurobi and numpy\n",
    "from gurobipy import *\n",
    "import numpy as np\n",
    "from numpy import genfromtxt\n",
    "import csv\n",
    "\n",
    "## Get index of 4 tickers\n",
    "tick4 = [\"MSFT\",\"GS\",\"PG\",\"SCHP\"];\n",
    "\n",
    "# Get variable names\n",
    "with open('Prices.csv') as csvFile:\n",
    "    reader = csv.reader(csvFile)\n",
    "    tickers = next(reader) ## stores the tickers of all 390 stocks\n",
    "\n",
    "tickind =[];\n",
    "for t in tick4:\n",
    "    tickind.append(tickers.index(t)) ## retrieve index that corresponds to each ticker\n",
    "\n",
    "# Load data\n",
    "prices = genfromtxt('Prices.csv', delimiter=',',skip_header = 1)\n",
    "\n",
    "# get dimensions of data\n",
    "d = prices.shape[0]\n",
    "n = prices.shape[1]\n",
    "\n",
    "# calculate monthly returns of each stock\n",
    "returns = np.zeros((d-1,n))\n",
    "for stock in range(n):\n",
    "    for month in range(d-1):\n",
    "        returns[month,stock] = prices[month+1,stock]/prices[month,stock]-1\n",
    "        \n",
    "# Store average return (parameter r_i in portfolio optimization model)       \n",
    "avg_return = np.zeros(n)\n",
    "avg_return = np.mean(returns,axis=0)\n",
    "\n",
    "# Store covariance matrix (parameter C_ij in portfolio optimization model)\n",
    "C = np.zeros((n,n))\n",
    "C = np.cov(np.transpose(returns))"
   ]
  },
  {
   "cell_type": "markdown",
   "id": "3793f689-95f3-453f-9d3b-55f9a28760e8",
   "metadata": {},
   "source": [
    "# Model 1"
   ]
  },
  {
   "cell_type": "code",
   "execution_count": 139,
   "id": "1604df92-c040-4cb2-a3bb-0a2ac6a8c39e",
   "metadata": {},
   "outputs": [],
   "source": [
    "model = Model(\"PortfolioOptimization\")\n",
    "\n",
    "# Variable\n",
    "w = {i: model.addVar(lb=0.0, ub=1.0, name=f\"weight_{i}\") for i in tickind}"
   ]
  },
  {
   "cell_type": "code",
   "execution_count": 140,
   "id": "be505271-fa4e-4d04-94c6-3e83e8536dc8",
   "metadata": {},
   "outputs": [
    {
     "data": {
      "text/plain": [
       "<gurobi.Constr *Awaiting Model Update*>"
      ]
     },
     "execution_count": 140,
     "metadata": {},
     "output_type": "execute_result"
    }
   ],
   "source": [
    "# Constraint: The sum of weights must equal 1\n",
    "model.addConstr(sum(w[i] for i in tickind) == 1, name=\"Weights_Constraint\")"
   ]
  },
  {
   "cell_type": "code",
   "execution_count": 141,
   "id": "ba8d8cd2-b0b2-462c-ac7a-f8cbc15de5c0",
   "metadata": {},
   "outputs": [],
   "source": [
    "# Constraint: Each individual weight must be greater than or equal to 0\n",
    "for i in tickind:\n",
    "    model.addConstr(w[i] >= 0, name=f\"Non_negative_constraint_{i}\")"
   ]
  },
  {
   "cell_type": "code",
   "execution_count": 142,
   "id": "b28fc1ab-113f-445d-a5a4-051c5b8031cc",
   "metadata": {},
   "outputs": [
    {
     "data": {
      "text/plain": [
       "<gurobi.Constr *Awaiting Model Update*>"
      ]
     },
     "execution_count": 142,
     "metadata": {},
     "output_type": "execute_result"
    }
   ],
   "source": [
    "# Constraint: The sum of weighted returns must be greater than 0.005\n",
    "model.addConstr(sum(w[i] * avg_return[i] for i in tickind) >= 0.005, name=\"Sum_of_Weighted_Returns_Constraint\")"
   ]
  },
  {
   "cell_type": "code",
   "execution_count": 143,
   "id": "1360df77-f5d5-458e-b91b-0b1f37d78911",
   "metadata": {},
   "outputs": [],
   "source": [
    "# Objective function: Minimize the portfolio variance\n",
    "portfolio_variance = sum(w[i] * w[j] * C[i, j] for i in tickind for j in tickind)\n",
    "model.setObjective(portfolio_variance, GRB.MINIMIZE)"
   ]
  },
  {
   "cell_type": "code",
   "execution_count": 144,
   "id": "3a7db68d-9395-4fa5-a418-0d9ce6d2b622",
   "metadata": {},
   "outputs": [
    {
     "name": "stdout",
     "output_type": "stream",
     "text": [
      "Gurobi Optimizer version 11.0.0 build v11.0.0rc2 (mac64[arm] - Darwin 23.0.0 23A344)\n",
      "\n",
      "CPU model: Apple M2\n",
      "Thread count: 8 physical cores, 8 logical processors, using up to 8 threads\n",
      "\n",
      "Optimize a model with 6 rows, 4 columns and 12 nonzeros\n",
      "Model fingerprint: 0x3bac9f13\n",
      "Model has 10 quadratic objective terms\n",
      "Coefficient statistics:\n",
      "  Matrix range     [2e-04, 1e+00]\n",
      "  Objective range  [0e+00, 0e+00]\n",
      "  QObjective range [5e-05, 7e-03]\n",
      "  Bounds range     [1e+00, 1e+00]\n",
      "  RHS range        [5e-03, 1e+00]\n",
      "Presolve removed 4 rows and 0 columns\n",
      "Presolve time: 0.00s\n",
      "Presolved: 2 rows, 4 columns, 8 nonzeros\n",
      "Presolved model has 10 quadratic objective terms\n",
      "Ordering time: 0.00s\n",
      "\n",
      "Barrier statistics:\n",
      " Free vars  : 3\n",
      " AA' NZ     : 1.000e+01\n",
      " Factor NZ  : 1.500e+01\n",
      " Factor Ops : 5.500e+01 (less than 1 second per iteration)\n",
      " Threads    : 1\n",
      "\n",
      "                  Objective                Residual\n",
      "Iter       Primal          Dual         Primal    Dual     Compl     Time\n",
      "   0   2.93770406e+03 -2.93770406e+03  4.00e+03 5.11e-07  3.09e+05     0s\n",
      "   1   1.96068715e+01 -2.83755129e+01  1.60e+02 2.04e-08  1.26e+04     0s\n",
      "   2   2.15057184e-03 -9.50151933e+00  1.60e-04 2.01e-14  6.76e+01     0s\n",
      "   3   2.14988538e-03 -1.14147561e-02  6.84e-08 1.78e-17  9.65e-02     0s\n",
      "   4   1.78359197e-03 -1.59293872e-03  1.39e-08 1.32e-17  2.40e-02     0s\n",
      "   5   1.91017839e-04 -2.16505681e-03  4.37e-13 2.01e-17  1.68e-02     0s\n",
      "   6   1.86814424e-04  1.72418396e-04  2.22e-16 6.33e-17  1.02e-04     0s\n",
      "   7   1.77834291e-04  1.77355693e-04  1.11e-15 4.01e-18  3.40e-06     0s\n",
      "   8   1.77493639e-04  1.77492970e-04  9.33e-15 7.24e-18  4.76e-09     0s\n",
      "\n",
      "Barrier solved model in 8 iterations and 0.02 seconds (0.00 work units)\n",
      "Optimal objective 1.77493639e-04\n",
      "\n"
     ]
    }
   ],
   "source": [
    "# Solve the model\n",
    "model.update()\n",
    "model.optimize()"
   ]
  },
  {
   "cell_type": "code",
   "execution_count": 267,
   "id": "d294eba4-a687-405f-932c-21c860e06a13",
   "metadata": {},
   "outputs": [
    {
     "name": "stdout",
     "output_type": "stream",
     "text": [
      "MSFT: 23.712%\n",
      "GS: 2.586%\n",
      "PG: 0.0%\n",
      "SCHP: 73.702%\n",
      "Total Portfolio Risk: 0.00017749363882836112\n"
     ]
    }
   ],
   "source": [
    "# Access the solution\n",
    "if model.status == GRB.OPTIMAL:\n",
    "    for i in tickind:\n",
    "        print(f\"{tickers[i]}: {round(w[i].x * 100, 3)}%\")\n",
    "    print(f\"Total Portfolio Risk: {model.objVal}\")"
   ]
  },
  {
   "cell_type": "markdown",
   "id": "b186ce27-0536-4255-999d-7b360f006454",
   "metadata": {},
   "source": [
    "# Model 2"
   ]
  },
  {
   "cell_type": "code",
   "execution_count": 194,
   "id": "aea0dc92-caf6-41b4-a743-63c90317a125",
   "metadata": {},
   "outputs": [],
   "source": [
    "model_allstocks = Model(\"PortfolioOptimizationAcrossAllStocks\")\n",
    "\n",
    "# Collect indexes of all tickers in portfolio\n",
    "tickind2 =[];\n",
    "for t in tickers:\n",
    "    tickind2.append(tickers.index(t))\n",
    "    \n",
    "w2 = {i: model_allstocks.addVar(lb=0.0, ub=1.0, name=f\"weight_{i}\") for i in tickind2}"
   ]
  },
  {
   "cell_type": "code",
   "execution_count": 195,
   "id": "bdf99e4d-d008-40d8-8243-eb20b7605d83",
   "metadata": {},
   "outputs": [
    {
     "data": {
      "text/plain": [
       "<gurobi.Constr *Awaiting Model Update*>"
      ]
     },
     "execution_count": 195,
     "metadata": {},
     "output_type": "execute_result"
    }
   ],
   "source": [
    "# Constraint: The sum of weights must equal 1\n",
    "model_allstocks.addConstr(sum(w2[i] for i in tickind2) == 1, name=\"Weights_Constraint\")"
   ]
  },
  {
   "cell_type": "code",
   "execution_count": 196,
   "id": "6098ca7b-e81a-4ebe-99c9-29d6db374267",
   "metadata": {},
   "outputs": [],
   "source": [
    "# Constraint: Each individual weight must be greater than or equal to 0\n",
    "for i in tickind2:\n",
    "    model_allstocks.addConstr(w2[i] >= 0, name=f\"Non_negative_constraint_{i}\")"
   ]
  },
  {
   "cell_type": "code",
   "execution_count": 197,
   "id": "4551e507-a312-4b4c-b6ab-cd6ba6227326",
   "metadata": {},
   "outputs": [
    {
     "data": {
      "text/plain": [
       "<gurobi.Constr *Awaiting Model Update*>"
      ]
     },
     "execution_count": 197,
     "metadata": {},
     "output_type": "execute_result"
    }
   ],
   "source": [
    "# Constraint: The sum of weighted returns must equal 1\n",
    "model_allstocks.addConstr(sum(w2[i] * avg_return[i] for i in tickind2) >= 0.005, name=\"Sum_of_Weighted_Returns_Constraint\")"
   ]
  },
  {
   "cell_type": "code",
   "execution_count": 198,
   "id": "74141523-1096-482d-a6da-28d42d61a25f",
   "metadata": {},
   "outputs": [],
   "source": [
    "# Objective function: Minimize the portfolio variance\n",
    "portfolio_variance_allstocks = sum(w2[i] * w2[j] * C[i, j] for i in tickind2 for j in tickind2)\n",
    "model_allstocks.setObjective(portfolio_variance_allstocks, GRB.MINIMIZE)"
   ]
  },
  {
   "cell_type": "code",
   "execution_count": null,
   "id": "2edcf22e-1c6d-416c-88de-cca6fcab9e71",
   "metadata": {},
   "outputs": [],
   "source": [
    "# Solve the model\n",
    "model_allstocks.update()\n",
    "model_allstocks.optimize()"
   ]
  },
  {
   "cell_type": "code",
   "execution_count": 266,
   "id": "2f3be8bb-ea54-4616-b3e5-9b727b651738",
   "metadata": {},
   "outputs": [
    {
     "name": "stdout",
     "output_type": "stream",
     "text": [
      "ABBV: 1.135%\n",
      "ABMD: 0.667%\n",
      "ATVI: 1.369%\n",
      "ANET: 1.175%\n",
      "AIZ: 2.223%\n",
      "ATO: 2.917%\n",
      "BBY: 0.26%\n",
      "CME: 1.275%\n",
      "ED: 0.018%\n",
      "DRI: 0.669%\n",
      "RE: 0.235%\n",
      "GWW: 0.777%\n",
      "HAS: 0.246%\n",
      "HCA: 2.955%\n",
      "HUM: 2.267%\n",
      "INFO: 5.173%\n",
      "ICE: 1.418%\n",
      "KEYS: 2.217%\n",
      "LHX: 0.0%\n",
      "LLY: 0.852%\n",
      "LMT: 0.066%\n",
      "PSX: 0.799%\n",
      "PNC: 3.229%\n",
      "BND: 68.056%\n",
      "Total Portfolio Risk: 2.878503835027502e-05\n"
     ]
    }
   ],
   "source": [
    "tolerance = 1e-6  # Adjust the tolerance level as needed\n",
    "\n",
    "# Access the solution\n",
    "if model_allstocks.status == GRB.OPTIMAL:\n",
    "    for i in tickind2:\n",
    "        if w2[i].x > tolerance:\n",
    "            print(f\"{tickers[i]}: {round(w2[i].x * 100, 3)}%\")\n",
    "    print(f\"Total Portfolio Risk: {model_allstocks.objVal}\")"
   ]
  },
  {
   "cell_type": "markdown",
   "id": "f9ae1db9-527a-4b0e-81cc-6544086dc976",
   "metadata": {},
   "source": [
    "# Model 3"
   ]
  },
  {
   "cell_type": "code",
   "execution_count": 297,
   "id": "7d3570bc-c3a1-46b1-9d8d-1d684863b731",
   "metadata": {},
   "outputs": [],
   "source": [
    "model_atmost4stocks = Model(\"PortfolioOptimizationWithAtMost4Stocks\")\n",
    "\n",
    "w3 = {i: model_atmost4stocks.addVar(lb=0.0, ub=1.0, name=f\"weight_{i}\") for i in tickind2}\n",
    "\n",
    "binary = {}\n",
    "for i in tickind2:\n",
    "    binary[i] = model_atmost4stocks.addVar(vtype = GRB.BINARY)"
   ]
  },
  {
   "cell_type": "code",
   "execution_count": 298,
   "id": "87e5cade-c61d-4465-a364-fedc4b01b335",
   "metadata": {},
   "outputs": [
    {
     "data": {
      "text/plain": [
       "<gurobi.Constr *Awaiting Model Update*>"
      ]
     },
     "execution_count": 298,
     "metadata": {},
     "output_type": "execute_result"
    }
   ],
   "source": [
    "# Constraint: The sum of weights must equal 1\n",
    "model_atmost4stocks.addConstr(sum(w3[i] for i in tickind2) == 1, name=\"Weights_Constraint\")\n",
    "\n",
    "# Constraint: Limit the number of stocks to at most 4\n",
    "model_atmost4stocks.addConstr(sum(binary[i] for i in tickind2) <= 4, name=\"AtMost4Stocks_Constraint\")"
   ]
  },
  {
   "cell_type": "code",
   "execution_count": 299,
   "id": "6da6eb81-2638-4e05-a8ef-fc8c40e1c2e0",
   "metadata": {},
   "outputs": [],
   "source": [
    "# Constraint: Each individual weight must be greater than or equal to 0\n",
    "for i in tickind2:\n",
    "    model_atmost4stocks.addConstr(w3[i] >= 0, name=f\"Non_negative_constraint_{i}\")"
   ]
  },
  {
   "cell_type": "code",
   "execution_count": 300,
   "id": "0ade1137-a35f-41b2-9f22-06e66300affd",
   "metadata": {},
   "outputs": [
    {
     "data": {
      "text/plain": [
       "<gurobi.Constr *Awaiting Model Update*>"
      ]
     },
     "execution_count": 300,
     "metadata": {},
     "output_type": "execute_result"
    }
   ],
   "source": [
    "# Constraint: The sum of weighted returns must equal 1\n",
    "model_atmost4stocks.addConstr(sum(w3[i] * avg_return[i] for i in tickind2) >= 0.005, name=\"Sum_of_Weighted_Returns_Constraint\")"
   ]
  },
  {
   "cell_type": "code",
   "execution_count": 304,
   "id": "02a35755-c56b-42d0-8faa-0ee0485eff3a",
   "metadata": {},
   "outputs": [],
   "source": [
    "# Constraint: Weight of asset should be less than the present/absent value (whether present in portfolio or not)\n",
    "for i in tickind2:\n",
    "    model_atmost4stocks.addConstr(w3[i] <= binary[i])"
   ]
  },
  {
   "cell_type": "code",
   "execution_count": 302,
   "id": "4629789d-4b4b-42c9-89ea-6ff4d0ade33c",
   "metadata": {},
   "outputs": [],
   "source": [
    "# Objective function: Minimize the portfolio variance\n",
    "portfolio_variance_atmost4stocks = sum(w3[i] * w3[j] * C[i, j] for i in tickind2 for j in tickind2)\n",
    "model_atmost4stocks.setObjective(portfolio_variance_atmost4stocks, GRB.MINIMIZE)"
   ]
  },
  {
   "cell_type": "code",
   "execution_count": 303,
   "id": "059751fa-661b-49c0-be80-cc5e343e1696",
   "metadata": {},
   "outputs": [
    {
     "name": "stdout",
     "output_type": "stream",
     "text": [
      "Gurobi Optimizer version 11.0.0 build v11.0.0rc2 (mac64[arm] - Darwin 23.0.0 23A344)\n",
      "\n",
      "CPU model: Apple M2\n",
      "Thread count: 8 physical cores, 8 logical processors, using up to 8 threads\n",
      "\n",
      "Optimize a model with 783 rows, 780 columns and 2340 nonzeros\n",
      "Model fingerprint: 0x6e451ca0\n",
      "Model has 76245 quadratic objective terms\n",
      "Variable types: 390 continuous, 390 integer (390 binary)\n",
      "Coefficient statistics:\n",
      "  Matrix range     [1e-06, 1e+00]\n",
      "  Objective range  [0e+00, 0e+00]\n",
      "  QObjective range [2e-07, 8e-02]\n",
      "  Bounds range     [1e+00, 1e+00]\n",
      "  RHS range        [5e-03, 4e+00]\n",
      "Presolve removed 390 rows and 0 columns\n",
      "Presolve time: 0.06s\n",
      "Presolved: 393 rows, 780 columns, 1950 nonzeros\n",
      "Presolved model has 76245 quadratic objective terms\n",
      "Variable types: 390 continuous, 390 integer (390 binary)\n",
      "Found heuristic solution: objective 0.0009032\n",
      "\n",
      "Root relaxation: objective 2.878501e-05, 129 iterations, 0.00 seconds (0.01 work units)\n",
      "\n",
      "    Nodes    |    Current Node    |     Objective Bounds      |     Work\n",
      " Expl Unexpl |  Obj  Depth IntInf | Incumbent    BestBd   Gap | It/Node Time\n",
      "\n",
      "     0     0    0.00003    0   21    0.00090    0.00003  96.8%     -    0s\n",
      "H    0     0                       0.0000723    0.00003  60.2%     -    0s\n",
      "     0     0    0.00003    0   21    0.00007    0.00003  60.2%     -    0s\n",
      "     0     0    0.00003    0   21    0.00007    0.00003  58.1%     -    0s\n",
      "     0     0    0.00003    0   21    0.00007    0.00003  58.1%     -    0s\n",
      "     0     2    0.00003    0   21    0.00007    0.00003  58.1%     -    0s\n",
      "H  129    99                       0.0000676    0.00003  55.2%  52.9    1s\n",
      "H  140   104                       0.0000675    0.00003  55.2%  49.4    1s\n",
      "  3052  1439    0.00006   43   27    0.00007    0.00004  40.5%  41.7    5s\n",
      "  8005  2088     cutoff   52         0.00007    0.00005  31.8%  54.6   10s\n",
      " 12974  2868    0.00006   43   22    0.00007    0.00005  21.6%  57.4   15s\n",
      " 17884  2574     cutoff   43         0.00007    0.00006  13.2%  59.0   20s\n",
      " 21374  2039     cutoff   40         0.00007    0.00006  8.76%  67.8   25s\n",
      " 24132  1319     cutoff   54         0.00007    0.00006  6.12%  76.8   30s\n",
      " 27237     0    0.00007   43   24    0.00007    0.00007  2.21%  85.1   35s\n",
      "\n",
      "Explored 27635 nodes (2351281 simplex iterations) in 35.46 seconds (35.39 work units)\n",
      "Thread count was 8 (of 8 available processors)\n",
      "\n",
      "Solution count 4: 6.75347e-05 6.75857e-05 7.23026e-05 0.000903152 \n",
      "\n",
      "Optimal solution found (tolerance 1.00e-04)\n",
      "Best objective 6.753470760728e-05, best bound 6.753470760728e-05, gap 0.0000%\n"
     ]
    }
   ],
   "source": [
    "# Solve the model\n",
    "model_atmost4stocks.update()\n",
    "model_atmost4stocks.optimize()"
   ]
  },
  {
   "cell_type": "code",
   "execution_count": 306,
   "id": "9bd41c2b-f4f2-45a5-8469-ed997f295e7f",
   "metadata": {},
   "outputs": [
    {
     "name": "stdout",
     "output_type": "stream",
     "text": [
      "CME: 12.641%\n",
      "LLY: 7.548%\n",
      "NVDA: 4.375%\n",
      "BND: 75.436%\n",
      "Total Portfolio Variance: 6.75347076072778e-05\n"
     ]
    }
   ],
   "source": [
    "# Access the solution\n",
    "if model_atmost4stocks.status == GRB.OPTIMAL:\n",
    "    for i in tickind2:\n",
    "        if binary[i].x == 1:\n",
    "            print(f\"{tickers[i]}: {round(w3[i].x * 100, 3)}%\")\n",
    "    print(f\"Total Portfolio Variance: {model_atmost4stocks.objVal}\")"
   ]
  },
  {
   "cell_type": "markdown",
   "id": "2e349154-c43f-4fea-bf26-ec758fd0c21d",
   "metadata": {},
   "source": [
    "## Question 1"
   ]
  },
  {
   "cell_type": "markdown",
   "id": "79b93081-b348-48a5-97f3-7011c7af0b29",
   "metadata": {},
   "source": [
    "**A. For Model 1, write down the optimal risk (i.e. the optimal objective function value), solver time, and the weight on each of the four stocks.**"
   ]
  },
  {
   "cell_type": "code",
   "execution_count": 269,
   "id": "98baaea3-0875-4b9a-9894-df6a03bda47e",
   "metadata": {},
   "outputs": [
    {
     "name": "stdout",
     "output_type": "stream",
     "text": [
      "Solver time for model 1 is 0.005153 seconds\n",
      "The weight of each of the four stocks is -\n",
      "MSFT: 23.712%\n",
      "GS: 2.586%\n",
      "PG: 0.0%\n",
      "SCHP: 73.702%\n",
      "Total Portfolio Variance: 0.0177%\n"
     ]
    }
   ],
   "source": [
    "print(\"Solver time for model 1 is %f\" % model.Runtime, \"seconds\")\n",
    "print(\"The weight of each of the four stocks is -\")\n",
    "if model.status == GRB.OPTIMAL:\n",
    "    for i in tickind:\n",
    "        print(f\"{tickers[i]}: {round(w[i].x * 100, 3)}%\")\n",
    "print(f\"Total Portfolio Variance: {round(model.objVal*100,4)}%\")"
   ]
  },
  {
   "cell_type": "markdown",
   "id": "a0c289fc-9717-461d-a930-0f1b031b196a",
   "metadata": {},
   "source": [
    "**B. For Model 2, write down the optimal risk and solver time.**"
   ]
  },
  {
   "cell_type": "code",
   "execution_count": 268,
   "id": "a898046d-f576-492d-9a57-a67221dbd44c",
   "metadata": {},
   "outputs": [
    {
     "name": "stdout",
     "output_type": "stream",
     "text": [
      "Solver time for model 1 is 0.004813 seconds\n",
      "Total Portfolio Variance: 0.0029%\n"
     ]
    }
   ],
   "source": [
    "print(\"Solver time for model 2 is %f\" % model_allstocks.Runtime, \"seconds\")\n",
    "print(f\"Total Portfolio Variance: {round(model_allstocks.objVal*100,4)}%\")"
   ]
  },
  {
   "cell_type": "markdown",
   "id": "bcde03ba-183d-4543-b885-769724e96699",
   "metadata": {},
   "source": [
    "**C. For Model 3, report the optimal risk, solver time, and the ticker and weight on each of the\n",
    "four stocks selected by the model**"
   ]
  },
  {
   "cell_type": "code",
   "execution_count": 313,
   "id": "7c060dee-d28e-4b18-8e94-6c7963953790",
   "metadata": {},
   "outputs": [
    {
     "name": "stdout",
     "output_type": "stream",
     "text": [
      "Solver time for model 3 is 3.010063 seconds\n",
      "The weight of each of the four stocks is -\n",
      "Total Portfolio Variance: 0.0068%\n"
     ]
    }
   ],
   "source": [
    "print(\"Solver time for model 3 is %f\" % model_atmost4stocks.Runtime, \"seconds\")\n",
    "print(\"The weight of each of the four stocks is -\")\n",
    "if model_atmost4stocks.status == GRB.OPTIMAL:\n",
    "    for i in tickind2:\n",
    "        if binary[i].x == 1:\n",
    "            print(f\"{tickers[i]}: {round(w3[i].x * 100, 3)}%\")\n",
    "print(f\"Total Portfolio Variance: {round(model_atmost4stocks.objVal*100,4)}%\")"
   ]
  },
  {
   "cell_type": "markdown",
   "id": "ae12c1bd-c5dc-4e80-ac90-0b56fde07acd",
   "metadata": {},
   "source": [
    "## Question 2\n",
    "Use your solution to Question 1 above to answer the following questions:"
   ]
  },
  {
   "cell_type": "markdown",
   "id": "fad63b15-efd9-4058-bbd7-c04fb07cbb4f",
   "metadata": {},
   "source": [
    "**A. Is the optimal risk in Model 1 higher or lower than Model 2? Explain why in 1-2 sentences.**"
   ]
  },
  {
   "cell_type": "markdown",
   "id": "75ca962e-4f24-4647-bce9-c7b9fc57d1fe",
   "metadata": {},
   "source": [
    "* **Model 2 has lower optimal risk** - Model 2 has a risk of 0.0029% as comparedto Model 1, which has the risk of 0.0177%\n",
    "* **Model 2 is more diversified** - With the increase in number of avaiable stocks from 4 to 390, the porfolio became more diversified. This diversification helps reduce risk as we can now choose stocks (more than 4) which are relatively less correlated and whose combination provides us with a sufficient return. This reduces the volatility in stocks, therefore having lower variance/risk"
   ]
  },
  {
   "cell_type": "markdown",
   "id": "93aee558-c9fc-4f07-8567-5934e32bcae1",
   "metadata": {},
   "source": [
    "**B. Is the optimal risk in Model 2 higher or lower than Model 3? Explain why in 1-2 sentences.**"
   ]
  },
  {
   "cell_type": "markdown",
   "id": "544e0adf-f827-4c64-9fdb-3c60f918a91b",
   "metadata": {},
   "source": [
    "* **Model 2 has lower optimal risk** - Model 2 has a risk of 0.0029% as comparedto Model 1, which has the risk of 0.0068%\n",
    "* **Model 3 is less diversified** - Model 3 can hold a portfolio of 1,2,3 or 4 stocks at best as compare to Model 2 which has 390 stocks at its disposal to create an optimal portfolio. The freedom to create a porfolio of more diverse assets (with a combination of more stocks that have lower correlation) is likely the reason for Model 2 outperforming Model 3 in risk. "
   ]
  },
  {
   "cell_type": "markdown",
   "id": "7a3e0079-6fa0-428b-9a83-7fe70f31d59c",
   "metadata": {},
   "source": [
    "# Question 3"
   ]
  },
  {
   "cell_type": "markdown",
   "id": "71030f58-e6c2-4370-9c68-ce87d8be0b41",
   "metadata": {},
   "source": [
    "**A. Set Gurobi to terminate after 3 seconds by including XYZ.Params.TimeLimit = 3.0 in your code for Model 3, where ’XYZ’ is the name of your model. How does the objective function value at termination compare the optimal value obtained in question 1c)?**"
   ]
  },
  {
   "cell_type": "code",
   "execution_count": 318,
   "id": "4ab51f7f-ec2c-415c-aff8-67d0c47e544a",
   "metadata": {},
   "outputs": [
    {
     "name": "stdout",
     "output_type": "stream",
     "text": [
      "Set parameter TimeLimit to value 2.9\n"
     ]
    }
   ],
   "source": [
    "model4 = Model(\"PortfolioOptimization - 4\")\n",
    "\n",
    "w4 = {i: model4.addVar(lb=0.0, ub=1.0, name=f\"weight_{i}\") for i in tickind2}\n",
    "\n",
    "binary = {}\n",
    "for i in tickind2:\n",
    "    binary[i] = model4.addVar(vtype = GRB.BINARY)\n",
    "\n",
    "# Constraint: The sum of weights must equal 1\n",
    "model_atmost4stocks.addConstr(sum(w3[i] for i in tickind2) == 1, name=\"Weights_Constraint\")\n",
    "\n",
    "# Constraint: Limit the number of stocks to at most 4\n",
    "model_atmost4stocks.addConstr(sum(binary[i] for i in tickind2) <= 4, name=\"AtMost4Stocks_Constraint\")\n",
    "\n",
    "# Constraint: Each individual weight must be greater than or equal to 0\n",
    "for i in tickind2:\n",
    "    model_atmost4stocks.addConstr(w3[i] >= 0, name=f\"Non_negative_constraint_{i}\")\n",
    "\n",
    "# Constraint: The sum of weighted returns must equal 1\n",
    "model_atmost4stocks.addConstr(sum(w3[i] * avg_return[i] for i in tickind2) >= 0.005, name=\"Sum_of_Weighted_Returns_Constraint\")\n",
    "\n",
    "# Constraint: Weight of asset should be less than the present/absent value (whether present in portfolio or not)\n",
    "for i in tickind2:\n",
    "    model_atmost4stocks.addConstr(w3[i] <= binary[i])\n",
    "\n",
    "# Objective function: Minimize the portfolio variance\n",
    "portfolio_variance_atmost4stocks = sum(w3[i] * w3[j] * C[i, j] for i in tickind2 for j in tickind2)\n",
    "model_atmost4stocks.setObjective(portfolio_variance_atmost4stocks, GRB.MINIMIZE)"
   ]
  },
  {
   "cell_type": "code",
   "execution_count": 319,
   "id": "b4fa8b62-1251-4ea1-a186-c76a435394fe",
   "metadata": {},
   "outputs": [
    {
     "name": "stdout",
     "output_type": "stream",
     "text": [
      "Gurobi Optimizer version 11.0.0 build v11.0.0rc2 (mac64[arm] - Darwin 23.0.0 23A344)\n",
      "\n",
      "CPU model: Apple M2\n",
      "Thread count: 8 physical cores, 8 logical processors, using up to 8 threads\n",
      "\n",
      "Optimize a model with 1173 rows, 780 columns and 3120 nonzeros\n",
      "Model fingerprint: 0xe3500674\n",
      "Model has 76245 quadratic objective terms\n",
      "Variable types: 390 continuous, 390 integer (390 binary)\n",
      "Coefficient statistics:\n",
      "  Matrix range     [1e-06, 1e+00]\n",
      "  Objective range  [0e+00, 0e+00]\n",
      "  QObjective range [2e-07, 8e-02]\n",
      "  Bounds range     [1e+00, 1e+00]\n",
      "  RHS range        [5e-03, 4e+00]\n",
      "Presolved: 393 rows, 780 columns, 1950 nonzeros\n",
      "Presolved model has 76245 quadratic objective terms\n",
      "\n",
      "Continuing optimization...\n",
      "\n",
      " 13740  2996     cutoff   36         0.00007    0.00005  20.9%  59.8   15s\n",
      "\n",
      "Explored 17128 nodes (1028348 simplex iterations) in 2.91 seconds (2.90 work units)\n",
      "Thread count was 8 (of 8 available processors)\n",
      "\n",
      "Solution count 1: 6.75347e-05 \n",
      "\n",
      "Time limit reached\n",
      "Best objective 6.753470760728e-05, best bound 5.665824588539e-05, gap 16.1050%\n"
     ]
    }
   ],
   "source": [
    "model4.update()\n",
    "model4.optimize()"
   ]
  },
  {
   "cell_type": "code",
   "execution_count": 312,
   "id": "509a2e74-78b7-4e2b-a70a-0f69ee02bb1e",
   "metadata": {},
   "outputs": [
    {
     "data": {
      "text/plain": [
       "6.75347076072812e-05"
      ]
     },
     "execution_count": 312,
     "metadata": {},
     "output_type": "execute_result"
    }
   ],
   "source": [
    "model_atmost4stocks.objVal"
   ]
  }
 ],
 "metadata": {
  "kernelspec": {
   "display_name": "Python 3 (ipykernel)",
   "language": "python",
   "name": "python3"
  },
  "language_info": {
   "codemirror_mode": {
    "name": "ipython",
    "version": 3
   },
   "file_extension": ".py",
   "mimetype": "text/x-python",
   "name": "python",
   "nbconvert_exporter": "python",
   "pygments_lexer": "ipython3",
   "version": "3.11.7"
  }
 },
 "nbformat": 4,
 "nbformat_minor": 5
}
